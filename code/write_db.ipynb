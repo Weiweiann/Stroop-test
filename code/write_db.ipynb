r
 "cells": [
  {
   "cell_type": "code",
   "execution_count": null,
   "metadata": {
    "collapsed": true
   },
   "outputs": [],
   "source": [
    "import glob\n",
    "import os\n",
    "import sqlite3\n",
    "\n",
    "os.chdir(\"./\")\n",
    "imgs_dir = glob.glob('./img/*')\n",
    "\n",
    "img_table =[]\n",
    "\n",
    "for img in imgs_dir:\n",
    "    image_name = img.split(\"/\")[2].split(\".\")[0]\n",
    "    word = image_name.split(\"_\")[0]\n",
    "    color = image_name.split(\"_\")[1]\n",
    "    img_table.append((image_name, word, color))\n",
    "    \n"
   ]
  },
  {
   "cell_type": "code",
   "execution_count": null,
   "metadata": {
    "collapsed": false
   },
   "outputs": [],
   "source": [
    "with open(\"./create_db.sql\") as f:\n",
    "    create_db_sql = f.read()\n",
    "\n",
    "db = sqlite3.connect('./stroop.db')\n",
    "with db:\n",
    "    db.executemany(\n",
    "    'INSERT INTO image(image_name, word, color) VALUES(?,?,?)',\n",
    "    img_table\n",
    "    )\n",
    "        "
   ]
  },
  {
   "cell_type": "code",
   "execution_count": null,
   "metadata": {
    "collapsed": false
   },
   "outputs": [],
   "source": [
    "\n",
    "    "
   ]
  },
  {
   "cell_type": "code",
   "execution_count": null,
   "metadata": {
    "collapsed": false
   },
   "outputs": [],
   "source": [
    "c = db.execute('SELECT * from image')\n",
    "for r in c:\n",
    "    print(r)"
   ]
  },
  {
   "cell_type": "code",
   "execution_count": null,
   "metadata": {
    "collapsed": false
   },
   "outputs": [],
   "source": [
    "% save stroop_test2.py\n",
    "\n",
    "# %load \"./stroop_test.py\"\n",
    "from flask  import Flask, request, render_template, flash, url_for\n",
    "import sqlite3\n",
    "\n",
    "\n",
    "\n",
    "# example from offical website of flask---\n",
    "DATABASE = \"./stroop.db\"\n",
    "\n",
    "def get_db():\n",
    "    db = getattr(g, '_database', None)\n",
    "    if db is None:\n",
    "        db = g._database = connect_to_database()\n",
    "    return db\n",
    "\n",
    "@app.teardown_appcontext\n",
    "def close_connection(exception):\n",
    "    db = getattr(g, '_database', None)\n",
    "    if db is not None:\n",
    "        db.close()\n",
    "# ---\n",
    "        \n",
    "        \n",
    "        \n",
    "        \n",
    "app = Flask(__name__)\n",
    "test_times = 0\n",
    "\n",
    "@app.route('/')\n",
    "def home():\n",
    "    return render_template('index.html')\n",
    "\n",
    "@app.route('/ready', methods=['GET'])\n",
    "def ready():\n",
    "    if request.form == 'GET':\n",
    "        db = get_db()\n",
    "        name = request.form.get(\"username\")\n",
    "        db.execute(\"INSERT INTO persons(name) VALUES(?)\", name)\n",
    "\n",
    "\n",
    "@app.route('/stroop')\n",
    "def stroop():\n",
    "    \n",
    "    \n",
    "    return render_template('stroop.html')\n",
    "\n",
    "def color_selection():\n",
    "    if test_times < 10:\n",
    "        if request.form == 'GET':\n",
    "            if request.form[\"submit\"] == \"Green\":\n",
    "                return render_template('home.html')\n",
    "                test_times = test_times + 1\n",
    "            elif request.form[\"submit\"] == \"Blue\":\n",
    "                print(\"Blue\")\n",
    "                test_times = test_times + 1\n",
    "            elif request.form[\"submit\"] == \"Red\":\n",
    "                print(\"Red\")\n",
    "                test_times = test_times + 1\n",
    "            elif request.form[\"submit\"] == \"Yellow\":\n",
    "                print(\"Yellow\")\n",
    "                test_times = test_times + 1\n",
    "    else:\n",
    "        flash(\"all test is finished, thank you!\")\n",
    "\n",
    "\n",
    "\n",
    "        \n",
    "\n",
    "\n",
    "\n",
    "if __name__ == '__main__':\n",
    "    app.run(debug=True)\n",
    "    \n",
    "    \n",
    "    \n"
   ]
  },
  {
   "cell_type": "code",
   "execution_count": null,
   "metadata": {
    "collapsed": true
   },
   "outputs": [],
   "source": [
    "a=[1,2,3,4,5,6,7]\n",
    "import random\n",
    "r = random.choice(a)"
   ]
  },
  {
   "cell_type": "code",
   "execution_count": null,
   "metadata": {
    "collapsed": false
   },
   "outputs": [],
   "source": [
    "print(r)"
   ]
  },
  {
   "cell_type": "code",
   "execution_count": null,
   "metadata": {
    "collapsed": false
   },
   "outputs": [],
   "source": [
    "# %load \"./stroop_test.py\"\n",
    "from flask  import Flask, request, render_template, flash, url_for, g\n",
    "import sqlite3\n",
    "\n",
    "app = Flask(__name__)\n",
    "\n",
    "# example from offical website of flask---\n",
    "DATABASE = './stroop.db'\n",
    "\n",
    "def get_db():\n",
    "    db = getattr(g, '_database', None)\n",
    "    if db is None:\n",
    "        db = g._database = sqlite.connect(DATABASE)\n",
    "    return db\n",
    "\n",
    "@app.teardown_appcontext\n",
    "def close_connection(exception):\n",
    "    db = getattr(g, '_database', None)\n",
    "    if db is not None:\n",
    "        db.close()\n",
    "# ---"
   ]
  },
  {
   "cell_type": "code",
   "execution_count": 17,
   "metadata": {
    "collapsed": false
   },
   "outputs": [],
   "source": [
    "import sqlite3, random\n",
    "from flask import g\n",
    "\n",
    "DATABASE = './stroop.db'\n",
    "\n",
    "db  = sqlite3.connect(DATABASE)\n",
    "cursor = db.execute(\"SELECT image_name from image\")\n",
    "img = [\n",
    "    row[0] for row in cursor\n",
    "]\n",
    "r_img = random.choice(img)\n"
   ]
  },
  {
   "cell_type": "code",
   "execution_count": 18,
   "metadata": {
    "collapsed": false
   },
   "outputs": [
    {
     "data": {
      "text/plain": [
       "'./img/Red_B.png'"
      ]
     },
     "execution_count": 18,
     "metadata": {},
     "output_type": "execute_result"
    }
   ],
   "source": [
    "'./img/' + r_img + '.png'"
   ]
  },
  {
   "cell_type": "code",
   "execution_count": 16,
   "metadata": {
    "collapsed": false
   },
   "outputs": [
    {
     "name": "stdout",
     "output_type": "stream",
     "text": [
      "Blue_B\n",
      "Blue_G\n",
      "Blue_R\n",
      "Blue_Y\n",
      "Green_B\n",
      "Green_G\n",
      "Green_R\n",
      "Green_Y\n",
      "Red_B\n",
      "Red_G\n",
      "Red_R\n",
      "Red_Y\n",
      "Yellow_B\n",
      "Yellow_G\n",
      "Yellow_R\n",
      "Yellow_Y\n"
     ]
    }
   ],
   "source": [
    "for row in cursor:\n",
    "    print(row[0])"
   ]
  },
  {
   "cell_type": "code",
   "execution_count": null,
   "metadata": {
    "collapsed": true
   },
   "outputs": [],
   "source": []
  }
 ],
 "metadata": {
  "kernelspec": {
   "display_name": "Python 3",
   "language": "python",
   "name": "python3"
  },
  "language_info": {
   "codemirror_mode": {
    "name": "ipython",
    "version": 3
   },
   "file_extension": ".py",
   "mimetype": "text/x-python",
   "name": "python",
   "nbconvert_exporter": "python",
   "pygments_lexer": "ipython3",
   "version": "3.4.3"
  }
 },
 "nbformat": 4,
 "nbformat_minor": 0
}
